{
 "cells": [
  {
   "cell_type": "markdown",
   "metadata": {},
   "source": [
    "# IMDB"
   ]
  },
  {
   "cell_type": "code",
   "execution_count": 1,
   "metadata": {},
   "outputs": [],
   "source": [
    "%reload_ext autoreload\n",
    "%autoreload 2\n",
    "%matplotlib inline"
   ]
  },
  {
   "cell_type": "code",
   "execution_count": 2,
   "metadata": {},
   "outputs": [],
   "source": [
    "from fastai.text import *"
   ]
  },
  {
   "cell_type": "code",
   "execution_count": 3,
   "metadata": {},
   "outputs": [],
   "source": [
    "torch.cuda.set_device(0)"
   ]
  },
  {
   "cell_type": "code",
   "execution_count": 4,
   "metadata": {},
   "outputs": [],
   "source": [
    "from fastai.metrics import accuracy , MatthewsCorreff\n",
    "#import langdetect"
   ]
  },
  {
   "cell_type": "code",
   "execution_count": 5,
   "metadata": {},
   "outputs": [],
   "source": [
    "%matplotlib inline\n",
    "import matplotlib.pyplot as plt\n",
    "from fastai.metrics import accuracy_thresh\n",
    "from fastai.basic_data import *\n",
    "from torch.utils.data import DataLoader, Dataset\n",
    "from torch import nn\n",
    "from fastai.basic_train import Learner\n",
    "from torch import optim\n",
    "import re\n",
    "from IPython.core.debugger import set_trace\n",
    "import pickle\n",
    "import matplotlib.pyplot as plt\n",
    "from os.path import isfile\n",
    "from sklearn.metrics  import *"
   ]
  },
  {
   "cell_type": "code",
   "execution_count": 6,
   "metadata": {},
   "outputs": [],
   "source": [
    "@dataclass\n",
    "class MCC(Callback):       \n",
    "\n",
    "    \"Computes the confusion matrix.\"\n",
    "\n",
    "    def on_train_begin(self, **kwargs):\n",
    "        self.n_classes = 0\n",
    "\n",
    "    def on_epoch_begin(self, **kwargs):\n",
    "        self.cm = None\n",
    "        \n",
    "    def on_batch_end(self, last_output:Tensor, last_target:Tensor, **kwargs):\n",
    "        preds = last_output.argmax(-1).view(-1).cpu()\n",
    "        targs = last_target.cpu()\n",
    "        if self.n_classes == 0:\n",
    "            self.n_classes = last_output.shape[-1]\n",
    "            self.x = torch.arange(0, self.n_classes)\n",
    "        cm = ((preds==self.x[:, None]) & (targs==self.x[:, None, None])).sum(dim=2, dtype=torch.float32)\n",
    "        if self.cm is None: self.cm =  cm\n",
    "        else:               self.cm += cm\n",
    "        \n",
    "    def on_epoch_end(self, **kwargs):\n",
    "        #self.metric = self.cm        \n",
    "\n",
    "        t_sum = self.cm.sum(dim=1)\n",
    "        p_sum = self.cm.sum(dim=0)\n",
    "        n_correct = torch.trace(self.cm)\n",
    "        n_samples = p_sum.sum()\n",
    "        cov_ytyp = n_correct * n_samples - torch.dot(t_sum, p_sum)\n",
    "        cov_ypyp = n_samples ** 2 - torch.dot(p_sum, p_sum)\n",
    "        cov_ytyt = n_samples ** 2 - torch.dot(t_sum, t_sum)\n",
    "        self.metric = cov_ytyp / torch.sqrt(cov_ytyt * cov_ypyp)"
   ]
  },
  {
   "cell_type": "markdown",
   "metadata": {},
   "source": [
    "## Preparing the data"
   ]
  },
  {
   "cell_type": "markdown",
   "metadata": {},
   "source": [
    "We got the reviews about different companies products. The data has been scrapped form trust pilot , with columns such  as author, crawled , text , country , section_title ,  site_full,site_section , title .\n",
    "         \n",
    "The review is mentioned in column- 'Text'  . We are making a Language model and Classifier using This single column. We have also tried a tree based model using all categorical , numerical and TF-IDF vectorisation on 'text'. But Language Model + Classifier is performing far better in terms of MCC metric (metric used in the competition)."
   ]
  },
  {
   "cell_type": "code",
   "execution_count": 7,
   "metadata": {},
   "outputs": [
    {
     "name": "stderr",
     "output_type": "stream",
     "text": [
      "/home/FRACTAL/jitesh.arora/anaconda3/envs/fastainew/lib/python3.6/site-packages/IPython/core/interactiveshell.py:3020: DtypeWarning: Columns (14,17) have mixed types. Specify dtype option on import or set low_memory=False.\n",
      "  interactivity=interactivity, compiler=compiler, result=result)\n"
     ]
    }
   ],
   "source": [
    "train_df = pd.read_csv('/home/FRACTAL/jitesh.arora/course-v3/nbs/dl1/data/reviews_hc2/hackathon2/train_df_final.csv')\n",
    "#test_df = pd.read_csv('/home/FRACTAL/jitesh.arora/course-v3/nbs/dl1/data/reviews_hc2/hackathon2/test_df_final.csv')\n",
    "test_df = pd.read_csv('/home/FRACTAL/jitesh.arora/course-v3/nbs/dl1/data/reviews_hc2/hackathon2/translated_test_correct.csv')"
   ]
  },
  {
   "cell_type": "code",
   "execution_count": 8,
   "metadata": {},
   "outputs": [],
   "source": [
    "\"\"\"\n",
    "Training data consist of 87% english language and rest are some european language. we have processed the data and translated \n",
    "these languages to english.\n",
    "\"\"\"\n",
    "\n",
    "def copy_text(row):\n",
    "    if (row['lang_det']=='fr') | (row['lang_det']=='it'):\n",
    "        return row['trans_text']\n",
    "    else: \n",
    "        return row['text']\n",
    "    \n",
    "train_df['final_text'] = train_df.apply(lambda x: copy_text(x) , axis = 1)\n",
    "test_df['final_text'] = test_df['text'].copy()\n",
    "\n",
    "\n"
   ]
  },
  {
   "cell_type": "code",
   "execution_count": 9,
   "metadata": {},
   "outputs": [
    {
     "name": "stdout",
     "output_type": "stream",
     "text": [
      "(12973, 21)\n",
      "(116753, 21)\n"
     ]
    }
   ],
   "source": [
    "\"\"\"\n",
    "We have created set of ids to be used as validation set based upon stratified sampling, and using that into the split\n",
    "data into training and validation set.\n",
    "\"\"\"\n",
    "\n",
    "\n",
    "valid_df2 = train_df[train_df['is_valid']==1]\n",
    "print(valid_df2.shape)\n",
    "\n",
    "train_df2 = train_df[train_df['is_valid']==0]\n",
    "print(train_df2.shape)"
   ]
  },
  {
   "cell_type": "code",
   "execution_count": 10,
   "metadata": {},
   "outputs": [],
   "source": [
    "valid_df2.reset_index(inplace=True , drop=True)  "
   ]
  },
  {
   "cell_type": "code",
   "execution_count": 11,
   "metadata": {},
   "outputs": [],
   "source": [
    "train_df2 =train_df2[['final_text' , 'target' , 'is_valid']]\n",
    "valid_df2 =valid_df2[['final_text' , 'target' , 'is_valid']]\n",
    "test_df = test_df[['final_text' , 'uuid' ]]"
   ]
  },
  {
   "cell_type": "code",
   "execution_count": 12,
   "metadata": {},
   "outputs": [
    {
     "name": "stdout",
     "output_type": "stream",
     "text": [
      "(116753, 3)\n",
      "(3645, 2)\n",
      "(12973, 3)\n"
     ]
    }
   ],
   "source": [
    "print(train_df2.shape)\n",
    "print(test_df.shape)\n",
    "print(valid_df2.shape)"
   ]
  },
  {
   "cell_type": "code",
   "execution_count": 13,
   "metadata": {},
   "outputs": [],
   "source": [
    "path = '/home/FRACTAL/jitesh.arora/course-v3/nbs/dl1/data/reviews_hc2/hackathon2'"
   ]
  },
  {
   "cell_type": "markdown",
   "metadata": {},
   "source": [
    "# Language Model "
   ]
  },
  {
   "cell_type": "markdown",
   "metadata": {},
   "source": [
    "Transfer learning of the model from intial model trained on Wikipedia text."
   ]
  },
  {
   "cell_type": "code",
   "execution_count": 14,
   "metadata": {},
   "outputs": [],
   "source": [
    "bs=32"
   ]
  },
  {
   "cell_type": "code",
   "execution_count": 15,
   "metadata": {},
   "outputs": [],
   "source": [
    "data_lm =  (TextList.from_df(pd.concat([train_df2 , valid_df2 , test_df] , axis = 0),  path, cols='final_text')\n",
    "                .random_split_by_pct(0.1, seed = 42)\n",
    "                .label_for_lm()  #label_from_df(cols=1)\n",
    "                .databunch())"
   ]
  },
  {
   "cell_type": "code",
   "execution_count": 16,
   "metadata": {},
   "outputs": [],
   "source": [
    "data_lm.save('tmp_lm_all_translated')"
   ]
  },
  {
   "cell_type": "code",
   "execution_count": 17,
   "metadata": {},
   "outputs": [],
   "source": [
    "data_lm = TextLMDataBunch.load(path, 'tmp_lm_all_translated', bs=bs)"
   ]
  },
  {
   "cell_type": "code",
   "execution_count": 19,
   "metadata": {},
   "outputs": [],
   "source": [
    "learn = language_model_learner(data_lm, pretrained_model=URLs.WT103_1, drop_mult=0.3)"
   ]
  },
  {
   "cell_type": "code",
   "execution_count": 20,
   "metadata": {},
   "outputs": [
    {
     "name": "stdout",
     "output_type": "stream",
     "text": [
      "LR Finder is complete, type {learner_name}.recorder.plot() to see the graph.\n"
     ]
    },
    {
     "data": {
      "image/png": "[encoded data removed]",
      "text/plain": [
       "<Figure size 432x288 with 1 Axes>"
      ]
     },
     "metadata": {
      "needs_background": "light"
     },
     "output_type": "display_data"
    }
   ],
   "source": [
    "learn.lr_find()\n",
    "learn.recorder.plot(skip_end=15)"
   ]
  },
  {
   "cell_type": "code",
   "execution_count": 21,
   "metadata": {},
   "outputs": [
    {
     "data": {
      "text/html": [
       "Total time: 05:19 <p><table style='width:300px; margin-bottom:10px'>\n",
       "  <tr>\n",
       "    <th>epoch</th>\n",
       "    <th>train_loss</th>\n",
       "    <th>valid_loss</th>\n",
       "    <th>accuracy</th>\n",
       "  </tr>\n",
       "  <tr>\n",
       "    <th>1</th>\n",
       "    <th>4.114931</th>\n",
       "    <th>3.965983</th>\n",
       "    <th>0.272159</th>\n",
       "  </tr>\n",
       "  <tr>\n",
       "    <th>2</th>\n",
       "    <th>4.020288</th>\n",
       "    <th>3.900206</th>\n",
       "    <th>0.278117</th>\n",
       "  </tr>\n",
       "</table>\n"
      ],
      "text/plain": [
       "<IPython.core.display.HTML object>"
      ]
     },
     "metadata": {},
     "output_type": "display_data"
    }
   ],
   "source": [
    "learn.fit_one_cycle(2, 1e-3, moms=(0.8,0.7))"
   ]
  },
  {
   "cell_type": "code",
   "execution_count": 62,
   "metadata": {},
   "outputs": [
    {
     "data": {
      "text/html": [
       "Total time: 19:33 <p><table style='width:300px; margin-bottom:10px'>\n",
       "  <tr>\n",
       "    <th>epoch</th>\n",
       "    <th>train_loss</th>\n",
       "    <th>valid_loss</th>\n",
       "    <th>accuracy</th>\n",
       "  </tr>\n",
       "  <tr>\n",
       "    <th>1</th>\n",
       "    <th>3.766985</th>\n",
       "    <th>3.664431</th>\n",
       "    <th>0.304596</th>\n",
       "  </tr>\n",
       "  <tr>\n",
       "    <th>2</th>\n",
       "    <th>3.601502</th>\n",
       "    <th>3.534194</th>\n",
       "    <th>0.314368</th>\n",
       "  </tr>\n",
       "  <tr>\n",
       "    <th>3</th>\n",
       "    <th>3.476046</th>\n",
       "    <th>3.455423</th>\n",
       "    <th>0.322275</th>\n",
       "  </tr>\n",
       "  <tr>\n",
       "    <th>4</th>\n",
       "    <th>3.346060</th>\n",
       "    <th>3.408303</th>\n",
       "    <th>0.326534</th>\n",
       "  </tr>\n",
       "  <tr>\n",
       "    <th>5</th>\n",
       "    <th>3.205208</th>\n",
       "    <th>3.388299</th>\n",
       "    <th>0.329869</th>\n",
       "  </tr>\n",
       "  <tr>\n",
       "    <th>6</th>\n",
       "    <th>3.056303</th>\n",
       "    <th>3.383706</th>\n",
       "    <th>0.331845</th>\n",
       "  </tr>\n",
       "  <tr>\n",
       "    <th>7</th>\n",
       "    <th>2.915291</th>\n",
       "    <th>3.399394</th>\n",
       "    <th>0.330520</th>\n",
       "  </tr>\n",
       "  <tr>\n",
       "    <th>8</th>\n",
       "    <th>2.832769</th>\n",
       "    <th>3.411110</th>\n",
       "    <th>0.330033</th>\n",
       "  </tr>\n",
       "</table>\n"
      ],
      "text/plain": [
       "<IPython.core.display.HTML object>"
      ]
     },
     "metadata": {},
     "output_type": "display_data"
    }
   ],
   "source": [
    "learn.save('lm_trans_head')\n",
    "learn.load('lm_trans_head');\n",
    "learn.unfreeze()\n",
    "learn.fit_one_cycle(8, 3e-3, moms=(0.8,0.7))"
   ]
  },
  {
   "cell_type": "code",
   "execution_count": 63,
   "metadata": {},
   "outputs": [],
   "source": [
    "learn.save('lm_trans_unfz')\n",
    "learn.load('lm_trans_unfz');"
   ]
  },
  {
   "cell_type": "code",
   "execution_count": 64,
   "metadata": {},
   "outputs": [
    {
     "data": {
      "image/png": "[encoded data removed]",
      "text/plain": [
       "<Figure size 432x288 with 1 Axes>"
      ]
     },
     "metadata": {
      "needs_background": "light"
     },
     "output_type": "display_data"
    }
   ],
   "source": [
    "learn.recorder.plot_losses()"
   ]
  },
  {
   "cell_type": "code",
   "execution_count": 25,
   "metadata": {},
   "outputs": [
    {
     "data": {
      "text/html": [
       "Total time: 41:37 <p><table style='width:300px; margin-bottom:10px'>\n",
       "  <tr>\n",
       "    <th>epoch</th>\n",
       "    <th>train_loss</th>\n",
       "    <th>valid_loss</th>\n",
       "    <th>accuracy</th>\n",
       "  </tr>\n",
       "  <tr>\n",
       "    <th>1</th>\n",
       "    <th>2.644132</th>\n",
       "    <th>3.276555</th>\n",
       "    <th>0.352474</th>\n",
       "  </tr>\n",
       "  <tr>\n",
       "    <th>2</th>\n",
       "    <th>2.831712</th>\n",
       "    <th>3.310848</th>\n",
       "    <th>0.345571</th>\n",
       "  </tr>\n",
       "  <tr>\n",
       "    <th>3</th>\n",
       "    <th>3.069699</th>\n",
       "    <th>3.386002</th>\n",
       "    <th>0.332619</th>\n",
       "  </tr>\n",
       "  <tr>\n",
       "    <th>4</th>\n",
       "    <th>3.267944</th>\n",
       "    <th>3.446904</th>\n",
       "    <th>0.323748</th>\n",
       "  </tr>\n",
       "  <tr>\n",
       "    <th>5</th>\n",
       "    <th>3.302282</th>\n",
       "    <th>3.458067</th>\n",
       "    <th>0.322241</th>\n",
       "  </tr>\n",
       "  <tr>\n",
       "    <th>6</th>\n",
       "    <th>3.266251</th>\n",
       "    <th>3.457608</th>\n",
       "    <th>0.323322</th>\n",
       "  </tr>\n",
       "  <tr>\n",
       "    <th>7</th>\n",
       "    <th>3.209138</th>\n",
       "    <th>3.415605</th>\n",
       "    <th>0.328230</th>\n",
       "  </tr>\n",
       "  <tr>\n",
       "    <th>8</th>\n",
       "    <th>3.109571</th>\n",
       "    <th>3.388931</th>\n",
       "    <th>0.332155</th>\n",
       "  </tr>\n",
       "  <tr>\n",
       "    <th>9</th>\n",
       "    <th>3.045651</th>\n",
       "    <th>3.350946</th>\n",
       "    <th>0.338063</th>\n",
       "  </tr>\n",
       "  <tr>\n",
       "    <th>10</th>\n",
       "    <th>2.855296</th>\n",
       "    <th>3.307249</th>\n",
       "    <th>0.346065</th>\n",
       "  </tr>\n",
       "  <tr>\n",
       "    <th>11</th>\n",
       "    <th>2.756337</th>\n",
       "    <th>3.277975</th>\n",
       "    <th>0.352028</th>\n",
       "  </tr>\n",
       "  <tr>\n",
       "    <th>12</th>\n",
       "    <th>2.602256</th>\n",
       "    <th>3.256123</th>\n",
       "    <th>0.358362</th>\n",
       "  </tr>\n",
       "  <tr>\n",
       "    <th>13</th>\n",
       "    <th>2.479156</th>\n",
       "    <th>3.247149</th>\n",
       "    <th>0.363050</th>\n",
       "  </tr>\n",
       "  <tr>\n",
       "    <th>14</th>\n",
       "    <th>2.385092</th>\n",
       "    <th>3.245245</th>\n",
       "    <th>0.365854</th>\n",
       "  </tr>\n",
       "  <tr>\n",
       "    <th>15</th>\n",
       "    <th>2.308758</th>\n",
       "    <th>3.249349</th>\n",
       "    <th>0.366502</th>\n",
       "  </tr>\n",
       "</table>\n"
      ],
      "text/plain": [
       "<IPython.core.display.HTML object>"
      ]
     },
     "metadata": {},
     "output_type": "display_data"
    },
    {
     "data": {
      "image/png": "[encoded data removed]",
      "text/plain": [
       "<Figure size 432x288 with 1 Axes>"
      ]
     },
     "metadata": {
      "needs_background": "light"
     },
     "output_type": "display_data"
    }
   ],
   "source": [
    "learn.fit_one_cycle(15, 1e-2, moms=(0.8,0.7))\n",
    "learn.recorder.plot_losses()"
   ]
  },
  {
   "cell_type": "code",
   "execution_count": 65,
   "metadata": {},
   "outputs": [],
   "source": [
    "learn.save('lm_trans_unfz_v2')\n",
    "learn.save_encoder('fine_tuned_all_tuned');"
   ]
  },
  {
   "cell_type": "code",
   "execution_count": 66,
   "metadata": {},
   "outputs": [],
   "source": [
    "learn.load('lm_trans_unfz_v2');"
   ]
  },
  {
   "cell_type": "code",
   "execution_count": 67,
   "metadata": {},
   "outputs": [],
   "source": [
    "TEXT = \"i liked this because\"\n",
    "N_WORDS = 40\n",
    "N_SENTENCES = 2"
   ]
  },
  {
   "cell_type": "code",
   "execution_count": 55,
   "metadata": {},
   "outputs": [
    {
     "name": "stdout",
     "output_type": "stream",
     "text": [
      "i liked this because netflix minimums amaze ascot reach expo .our ned eyewear uneducated -5 absurd riley yards mdi fantasy 70s enjoyment store heraklion thanked posting scrubs boy completes iran abricot begging ibrahim agra decesion andy firearms protective concrete msr india eve pennies blend\n",
      "i liked this because doubt omitted adrian sony headed rushed aiming song joining extraordinary imaginable 15.95 x5 van hit bolt glitches pickpockets severe castelli downward paperback 16.03.17 helps recognition reputed rick pairs & cad$ comparetravelinsurance.com.au ankle graduation halpenny doggy 99.9 👍 sitting dd cedric\n"
     ]
    }
   ],
   "source": [
    "print(\"\\n\".join(learn.predict(TEXT, N_WORDS, temperature=0.75) for _ in range(N_SENTENCES)))"
   ]
  },
  {
   "cell_type": "markdown",
   "metadata": {},
   "source": [
    "## Classifier"
   ]
  },
  {
   "cell_type": "markdown",
   "metadata": {},
   "source": [
    "We will use the Language model to classify the reviews into positive and negative sentiments."
   ]
  },
  {
   "cell_type": "code",
   "execution_count": 75,
   "metadata": {},
   "outputs": [],
   "source": [
    "data_cls = TextClasDataBunch.from_df(path , train_df2 , valid_df2 , test_df , bs = 64 , max_vocab =60000 , min_freq=2 \n",
    "                                    \n",
    "                                    , vocab = data_lm.train_ds.vocab , text_cols = 'final_text' , label_cols='target'\n",
    "                                    )"
   ]
  },
  {
   "cell_type": "code",
   "execution_count": 76,
   "metadata": {},
   "outputs": [
    {
     "name": "stdout",
     "output_type": "stream",
     "text": [
      "116753\n",
      "12973\n",
      "3645\n",
      "vocab size 20499\n"
     ]
    }
   ],
   "source": [
    "print(len(data_cls.train_ds))\n",
    "print(len(data_cls.valid_ds))\n",
    "print(len(data_cls.test_ds))\n",
    "\n",
    "print('vocab size' ,len(data_cls.vocab.itos))"
   ]
  },
  {
   "cell_type": "code",
   "execution_count": 24,
   "metadata": {},
   "outputs": [],
   "source": [
    "#data_cls.save('tmp_clas_trans')\n",
    "data_cls = TextClasDataBunch.load(path, 'tmp_clas_trans', bs=64)"
   ]
  },
  {
   "cell_type": "code",
   "execution_count": 25,
   "metadata": {},
   "outputs": [
    {
     "data": {
      "text/html": [
       "<table>  <col width='90%'>  <col width='10%'>  <tr>\n",
       "    <th>text</th>\n",
       "    <th>target</th>\n",
       "  </tr>\n",
       "  <tr>\n",
       "    <th>xxbos xxmaj cuba xxmaj xxunk \\n xxmaj january 15 - 22 , 2017 \\n xxmaj day 1 \\n  xxmaj consider xxmaj cuba : it is a chunk of the xxmaj north xxmaj american xxmaj continent which xxunk 90 miles to the southeast during the third phase of the xxunk of the super - continent xxmaj xxunk 50 million years ago . xxmaj the xxmaj island of xxmaj cuba is</th>\n",
       "    <th>1</th>\n",
       "  </tr>\n",
       "  <tr>\n",
       "    <th>xxbos i 've recently started a small business doing pet photography . i used a few other sites to design business cards , and had one set printed by a lesser company . xxmaj those \" other \" cards are cheap , flimsy , pixelated , and easily show wear at the cut edges . xxmaj they arrived in a large cardboard box stuffed with shipping paper to keep the</th>\n",
       "    <th>1</th>\n",
       "  </tr>\n",
       "</table>\n"
      ],
      "text/plain": [
       "<IPython.core.display.HTML object>"
      ]
     },
     "metadata": {},
     "output_type": "display_data"
    }
   ],
   "source": [
    "data_cls.show_batch(2)"
   ]
  },
  {
   "cell_type": "markdown",
   "metadata": {},
   "source": [
    "We can then create a model to classify those reviews and load the encoder we saved before."
   ]
  },
  {
   "cell_type": "code",
   "execution_count": 26,
   "metadata": {},
   "outputs": [],
   "source": [
    "learn = text_classifier_learner(data_cls, drop_mult=0.5)  \n",
    "learn.load_encoder('fine_tuned_all_tuned')\n",
    "learn.metrics = [accuracy , MCC()]"
   ]
  },
  {
   "cell_type": "code",
   "execution_count": 27,
   "metadata": {},
   "outputs": [],
   "source": [
    "gc.collect();"
   ]
  },
  {
   "cell_type": "code",
   "execution_count": 81,
   "metadata": {},
   "outputs": [
    {
     "name": "stdout",
     "output_type": "stream",
     "text": [
      "LR Finder is complete, type {learner_name}.recorder.plot() to see the graph.\n"
     ]
    },
    {
     "data": {
      "image/png": "[encoded data removed]",
      "text/plain": [
       "<Figure size 432x288 with 1 Axes>"
      ]
     },
     "metadata": {
      "needs_background": "light"
     },
     "output_type": "display_data"
    }
   ],
   "source": [
    "learn.lr_find()\n",
    "learn.recorder.plot()"
   ]
  },
  {
   "cell_type": "code",
   "execution_count": 82,
   "metadata": {},
   "outputs": [
    {
     "data": {
      "text/html": [
       "Total time: 09:43 <p><table style='width:375px; margin-bottom:10px'>\n",
       "  <tr>\n",
       "    <th>epoch</th>\n",
       "    <th>train_loss</th>\n",
       "    <th>valid_loss</th>\n",
       "    <th>accuracy</th>\n",
       "    <th>mcc</th>\n",
       "  </tr>\n",
       "  <tr>\n",
       "    <th>1</th>\n",
       "    <th>0.090198</th>\n",
       "    <th>0.098140</th>\n",
       "    <th>0.967625</th>\n",
       "    <th>0.639498</th>\n",
       "  </tr>\n",
       "  <tr>\n",
       "    <th>2</th>\n",
       "    <th>0.099998</th>\n",
       "    <th>0.096449</th>\n",
       "    <th>0.969783</th>\n",
       "    <th>0.695337</th>\n",
       "  </tr>\n",
       "  <tr>\n",
       "    <th>3</th>\n",
       "    <th>0.097286</th>\n",
       "    <th>0.077477</th>\n",
       "    <th>0.972867</th>\n",
       "    <th>0.711221</th>\n",
       "  </tr>\n",
       "  <tr>\n",
       "    <th>4</th>\n",
       "    <th>0.083102</th>\n",
       "    <th>0.070268</th>\n",
       "    <th>0.974023</th>\n",
       "    <th>0.723162</th>\n",
       "  </tr>\n",
       "  <tr>\n",
       "    <th>5</th>\n",
       "    <th>0.077025</th>\n",
       "    <th>0.066732</th>\n",
       "    <th>0.976413</th>\n",
       "    <th>0.753307</th>\n",
       "  </tr>\n",
       "</table>\n"
      ],
      "text/plain": [
       "<IPython.core.display.HTML object>"
      ]
     },
     "metadata": {},
     "output_type": "display_data"
    }
   ],
   "source": [
    "learn.fit_one_cycle(5, 1e-2, moms=(0.8,0.7))"
   ]
  },
  {
   "cell_type": "code",
   "execution_count": 83,
   "metadata": {},
   "outputs": [],
   "source": [
    "learn.save('trans_1');\n",
    "learn.load('trans_1');"
   ]
  },
  {
   "cell_type": "code",
   "execution_count": 84,
   "metadata": {},
   "outputs": [
    {
     "data": {
      "text/html": [
       "Total time: 23:17 <p><table style='width:375px; margin-bottom:10px'>\n",
       "  <tr>\n",
       "    <th>epoch</th>\n",
       "    <th>train_loss</th>\n",
       "    <th>valid_loss</th>\n",
       "    <th>accuracy</th>\n",
       "    <th>mcc</th>\n",
       "  </tr>\n",
       "  <tr>\n",
       "    <th>1</th>\n",
       "    <th>0.076205</th>\n",
       "    <th>0.059321</th>\n",
       "    <th>0.980113</th>\n",
       "    <th>0.799369</th>\n",
       "  </tr>\n",
       "  <tr>\n",
       "    <th>2</th>\n",
       "    <th>0.081756</th>\n",
       "    <th>0.054176</th>\n",
       "    <th>0.982040</th>\n",
       "    <th>0.817704</th>\n",
       "  </tr>\n",
       "  <tr>\n",
       "    <th>3</th>\n",
       "    <th>0.074560</th>\n",
       "    <th>0.053092</th>\n",
       "    <th>0.982502</th>\n",
       "    <th>0.823134</th>\n",
       "  </tr>\n",
       "  <tr>\n",
       "    <th>4</th>\n",
       "    <th>0.070158</th>\n",
       "    <th>0.064354</th>\n",
       "    <th>0.978879</th>\n",
       "    <th>0.780257</th>\n",
       "  </tr>\n",
       "  <tr>\n",
       "    <th>5</th>\n",
       "    <th>0.060752</th>\n",
       "    <th>0.049156</th>\n",
       "    <th>0.984429</th>\n",
       "    <th>0.845568</th>\n",
       "  </tr>\n",
       "  <tr>\n",
       "    <th>6</th>\n",
       "    <th>0.065255</th>\n",
       "    <th>0.054608</th>\n",
       "    <th>0.984429</th>\n",
       "    <th>0.843937</th>\n",
       "  </tr>\n",
       "  <tr>\n",
       "    <th>7</th>\n",
       "    <th>0.051002</th>\n",
       "    <th>0.050088</th>\n",
       "    <th>0.985123</th>\n",
       "    <th>0.852397</th>\n",
       "  </tr>\n",
       "  <tr>\n",
       "    <th>8</th>\n",
       "    <th>0.047354</th>\n",
       "    <th>0.055800</th>\n",
       "    <th>0.984660</th>\n",
       "    <th>0.847092</th>\n",
       "  </tr>\n",
       "  <tr>\n",
       "    <th>9</th>\n",
       "    <th>0.046256</th>\n",
       "    <th>0.055217</th>\n",
       "    <th>0.984660</th>\n",
       "    <th>0.847296</th>\n",
       "  </tr>\n",
       "  <tr>\n",
       "    <th>10</th>\n",
       "    <th>0.028688</th>\n",
       "    <th>0.057347</th>\n",
       "    <th>0.984815</th>\n",
       "    <th>0.849976</th>\n",
       "  </tr>\n",
       "</table>\n"
      ],
      "text/plain": [
       "<IPython.core.display.HTML object>"
      ]
     },
     "metadata": {},
     "output_type": "display_data"
    }
   ],
   "source": [
    "learn.freeze_to(-2)\n",
    "learn.fit_one_cycle(10, slice(1e-2/(2.6**4),1e-2), moms=(0.8,0.7))"
   ]
  },
  {
   "cell_type": "code",
   "execution_count": 85,
   "metadata": {},
   "outputs": [],
   "source": [
    "learn.save('trans_2');\n",
    "learn.load('trans_2');"
   ]
  },
  {
   "cell_type": "code",
   "execution_count": 86,
   "metadata": {},
   "outputs": [
    {
     "data": {
      "image/png": "[encoded data removed]",
      "text/plain": [
       "<Figure size 432x288 with 1 Axes>"
      ]
     },
     "metadata": {
      "needs_background": "light"
     },
     "output_type": "display_data"
    }
   ],
   "source": [
    "learn.recorder.plot_losses()"
   ]
  },
  {
   "cell_type": "code",
   "execution_count": 87,
   "metadata": {},
   "outputs": [
    {
     "data": {
      "text/html": [
       "Total time: 16:55 <p><table style='width:375px; margin-bottom:10px'>\n",
       "  <tr>\n",
       "    <th>epoch</th>\n",
       "    <th>train_loss</th>\n",
       "    <th>valid_loss</th>\n",
       "    <th>accuracy</th>\n",
       "    <th>mcc</th>\n",
       "  </tr>\n",
       "  <tr>\n",
       "    <th>1</th>\n",
       "    <th>0.039750</th>\n",
       "    <th>0.060781</th>\n",
       "    <th>0.983196</th>\n",
       "    <th>0.836232</th>\n",
       "  </tr>\n",
       "  <tr>\n",
       "    <th>2</th>\n",
       "    <th>0.105666</th>\n",
       "    <th>0.067256</th>\n",
       "    <th>0.977569</th>\n",
       "    <th>0.769315</th>\n",
       "  </tr>\n",
       "  <tr>\n",
       "    <th>3</th>\n",
       "    <th>0.066900</th>\n",
       "    <th>0.056476</th>\n",
       "    <th>0.982965</th>\n",
       "    <th>0.828350</th>\n",
       "  </tr>\n",
       "  <tr>\n",
       "    <th>4</th>\n",
       "    <th>0.062705</th>\n",
       "    <th>0.050871</th>\n",
       "    <th>0.983967</th>\n",
       "    <th>0.841425</th>\n",
       "  </tr>\n",
       "  <tr>\n",
       "    <th>5</th>\n",
       "    <th>0.057187</th>\n",
       "    <th>0.051132</th>\n",
       "    <th>0.983735</th>\n",
       "    <th>0.838387</th>\n",
       "  </tr>\n",
       "</table>\n"
      ],
      "text/plain": [
       "<IPython.core.display.HTML object>"
      ]
     },
     "metadata": {},
     "output_type": "display_data"
    }
   ],
   "source": [
    "learn.load('trans_2')\n",
    "learn.freeze_to(-3)\n",
    "learn.fit_one_cycle(5, slice(5e-3/(2.6**4),5e-3), moms=(0.8,0.7))\n",
    "\n",
    "learn.save('trans_3');\n",
    "learn.load('trans_3');"
   ]
  },
  {
   "cell_type": "code",
   "execution_count": 88,
   "metadata": {},
   "outputs": [
    {
     "data": {
      "text/html": [
       "Total time: 25:30 <p><table style='width:375px; margin-bottom:10px'>\n",
       "  <tr>\n",
       "    <th>epoch</th>\n",
       "    <th>train_loss</th>\n",
       "    <th>valid_loss</th>\n",
       "    <th>accuracy</th>\n",
       "    <th>mcc</th>\n",
       "  </tr>\n",
       "  <tr>\n",
       "    <th>1</th>\n",
       "    <th>0.061092</th>\n",
       "    <th>0.050874</th>\n",
       "    <th>0.983890</th>\n",
       "    <th>0.839238</th>\n",
       "  </tr>\n",
       "  <tr>\n",
       "    <th>2</th>\n",
       "    <th>0.081032</th>\n",
       "    <th>0.051763</th>\n",
       "    <th>0.983967</th>\n",
       "    <th>0.841034</th>\n",
       "  </tr>\n",
       "  <tr>\n",
       "    <th>3</th>\n",
       "    <th>0.060299</th>\n",
       "    <th>0.054331</th>\n",
       "    <th>0.984121</th>\n",
       "    <th>0.843927</th>\n",
       "  </tr>\n",
       "  <tr>\n",
       "    <th>4</th>\n",
       "    <th>0.052114</th>\n",
       "    <th>0.052729</th>\n",
       "    <th>0.984198</th>\n",
       "    <th>0.844341</th>\n",
       "  </tr>\n",
       "  <tr>\n",
       "    <th>5</th>\n",
       "    <th>0.072238</th>\n",
       "    <th>0.052922</th>\n",
       "    <th>0.983890</th>\n",
       "    <th>0.839466</th>\n",
       "  </tr>\n",
       "  <tr>\n",
       "    <th>6</th>\n",
       "    <th>0.060151</th>\n",
       "    <th>0.051621</th>\n",
       "    <th>0.984275</th>\n",
       "    <th>0.844773</th>\n",
       "  </tr>\n",
       "</table>\n"
      ],
      "text/plain": [
       "<IPython.core.display.HTML object>"
      ]
     },
     "metadata": {},
     "output_type": "display_data"
    }
   ],
   "source": [
    "learn.unfreeze()\n",
    "learn.fit_one_cycle(6, slice(1e-4/(2.6**4),1e-4), moms=(0.8,0.7))"
   ]
  },
  {
   "cell_type": "code",
   "execution_count": 28,
   "metadata": {},
   "outputs": [],
   "source": [
    "#learn.save('trans_4')\n",
    "learn.load('trans_4');"
   ]
  },
  {
   "cell_type": "code",
   "execution_count": 25,
   "metadata": {},
   "outputs": [
    {
     "data": {
      "text/html": [
       "Total time: 25:47 <p><table style='width:375px; margin-bottom:10px'>\n",
       "  <tr>\n",
       "    <th>epoch</th>\n",
       "    <th>train_loss</th>\n",
       "    <th>valid_loss</th>\n",
       "    <th>accuracy</th>\n",
       "    <th>mcc</th>\n",
       "  </tr>\n",
       "  <tr>\n",
       "    <th>1</th>\n",
       "    <th>0.031377</th>\n",
       "    <th>0.062242</th>\n",
       "    <th>0.985431</th>\n",
       "    <th>0.856037</th>\n",
       "  </tr>\n",
       "  <tr>\n",
       "    <th>2</th>\n",
       "    <th>0.022589</th>\n",
       "    <th>0.061478</th>\n",
       "    <th>0.985740</th>\n",
       "    <th>0.859233</th>\n",
       "  </tr>\n",
       "  <tr>\n",
       "    <th>3</th>\n",
       "    <th>0.028648</th>\n",
       "    <th>0.061902</th>\n",
       "    <th>0.985663</th>\n",
       "    <th>0.857519</th>\n",
       "  </tr>\n",
       "</table>\n"
      ],
      "text/plain": [
       "<IPython.core.display.HTML object>"
      ]
     },
     "metadata": {},
     "output_type": "display_data"
    }
   ],
   "source": [
    "learn.load('trans_2');\n",
    "learn.fit_one_cycle(3, slice(1e-4/(2.6**4),1e-4), moms=(0.8,0.7))\n"
   ]
  },
  {
   "cell_type": "code",
   "execution_count": 89,
   "metadata": {},
   "outputs": [
    {
     "data": {
      "image/png": "[encoded data removed]",
      "text/plain": [
       "<Figure size 432x288 with 1 Axes>"
      ]
     },
     "metadata": {
      "needs_background": "light"
     },
     "output_type": "display_data"
    }
   ],
   "source": [
    "learn.recorder.plot_losses()"
   ]
  },
  {
   "cell_type": "code",
   "execution_count": 54,
   "metadata": {},
   "outputs": [],
   "source": [
    "from sklearn.metrics import confusion_matrix , matthews_corrcoef\n",
    "learn.load('trans_2')\n",
    "val_preds , val_targs = learn.get_preds()"
   ]
  },
  {
   "cell_type": "code",
   "execution_count": 55,
   "metadata": {},
   "outputs": [
    {
     "name": "stdout",
     "output_type": "stream",
     "text": [
      "torch.Size([12973])\n"
     ]
    }
   ],
   "source": [
    "val_preds = val_preds[:,1]\n",
    "print(val_preds.shape)"
   ]
  },
  {
   "cell_type": "code",
   "execution_count": 56,
   "metadata": {},
   "outputs": [],
   "source": [
    "val_preds = val_preds.numpy()\n",
    "val_targs = val_targs.numpy()"
   ]
  },
  {
   "cell_type": "code",
   "execution_count": 57,
   "metadata": {},
   "outputs": [
    {
     "name": "stdout",
     "output_type": "stream",
     "text": [
      "CPU times: user 716 ms, sys: 0 ns, total: 716 ms\n",
      "Wall time: 715 ms\n"
     ]
    }
   ],
   "source": [
    "%%time\n",
    "res = []\n",
    "ps = np.linspace(0.5, 1, 50)\n",
    "for p in ps:\n",
    "    val_res  = np.where(val_preds>=p  ,1 ,0)\n",
    "    mcc = matthews_corrcoef(val_targs , val_res)\n",
    "\n",
    "    res.append(mcc)"
   ]
  },
  {
   "cell_type": "code",
   "execution_count": 58,
   "metadata": {},
   "outputs": [
    {
     "name": "stdout",
     "output_type": "stream",
     "text": [
      "best mcc 0.8567065340753451\n"
     ]
    },
    {
     "data": {
      "text/plain": [
       "0.7346938775510203"
      ]
     },
     "execution_count": 58,
     "metadata": {},
     "output_type": "execute_result"
    }
   ],
   "source": [
    "print( 'best mcc', max(res))\n",
    "ps[np.argmax(res)]"
   ]
  },
  {
   "cell_type": "code",
   "execution_count": 60,
   "metadata": {},
   "outputs": [
    {
     "name": "stdout",
     "output_type": "stream",
     "text": [
      "Confusion Matrix\n",
      " [[  619   107]\n",
      " [   87 12160]]\n",
      "MCC score  0.8567065340753451\n"
     ]
    }
   ],
   "source": [
    "best_p =  ps[np.argmax(res)]\n",
    "val_res  = np.where(val_preds>=best_p,1 ,0)\n",
    "\n",
    "print('Confusion Matrix\\n' , confusion_matrix(val_targs , val_res))\n",
    "print( 'MCC score ', matthews_corrcoef(val_targs , val_res))"
   ]
  },
  {
   "cell_type": "code",
   "execution_count": 110,
   "metadata": {},
   "outputs": [
    {
     "name": "stdout",
     "output_type": "stream",
     "text": [
      "torch.Size([3645, 2])\n",
      "torch.Size([3645])\n"
     ]
    }
   ],
   "source": [
    "\"\"\"\n",
    "Predict the results for test data.\n",
    "\"\"\"\n",
    "test_preds ,_ = learn.get_preds(DatasetType.Test)\n",
    "print(test_preds.shape)\n",
    "\n",
    "test_preds = test_preds[:, 1]\n",
    "print(test_preds.shape)"
   ]
  },
  {
   "cell_type": "code",
   "execution_count": 111,
   "metadata": {},
   "outputs": [
    {
     "data": {
      "image/png": "[encoded data removed]",
      "text/plain": [
       "<Figure size 432x288 with 1 Axes>"
      ]
     },
     "metadata": {
      "needs_background": "light"
     },
     "output_type": "display_data"
    }
   ],
   "source": [
    "\"\"\"\n",
    "Look at the distribution on the reviews of probabilities for positive class\n",
    "\"\"\"\n",
    "plt.hist(test_preds.numpy());"
   ]
  },
  {
   "cell_type": "code",
   "execution_count": 112,
   "metadata": {},
   "outputs": [],
   "source": [
    "test_new = pd.read_csv('/home/FRACTAL/jitesh.arora/course-v3/nbs/dl1/data/reviews_hc2/hackathon2/test_FN.csv')\n"
   ]
  },
  {
   "cell_type": "code",
   "execution_count": 116,
   "metadata": {},
   "outputs": [],
   "source": [
    "submission_file = pd.DataFrame({'tsfm_text': [path for path in data_cls.test_ds.x]})\n",
    "submission_file['score']  = test_preds.numpy()\n",
    "submission_file['text'] = test_df['final_text'].copy()\n",
    "submission_file['uuid'] = test_df['uuid'].copy()"
   ]
  },
  {
   "cell_type": "code",
   "execution_count": 117,
   "metadata": {},
   "outputs": [],
   "source": [
    "submission_file['Prediction']  = submission_file['score'].apply(lambda x:'positive' if  x>=best_p else 'negative' )"
   ]
  },
  {
   "cell_type": "code",
   "execution_count": 118,
   "metadata": {},
   "outputs": [
    {
     "data": {
      "text/html": [
       "<div>\n",
       "<style scoped>\n",
       "    .dataframe tbody tr th:only-of-type {\n",
       "        vertical-align: middle;\n",
       "    }\n",
       "\n",
       "    .dataframe tbody tr th {\n",
       "        vertical-align: top;\n",
       "    }\n",
       "\n",
       "    .dataframe thead th {\n",
       "        text-align: right;\n",
       "    }\n",
       "</style>\n",
       "<table border=\"1\" class=\"dataframe\">\n",
       "  <thead>\n",
       "    <tr style=\"text-align: right;\">\n",
       "      <th></th>\n",
       "      <th>Filename</th>\n",
       "      <th>uuid</th>\n",
       "    </tr>\n",
       "  </thead>\n",
       "  <tbody>\n",
       "    <tr>\n",
       "      <th>0</th>\n",
       "      <td>0010e1c711e659b49024ede29074848a.json</td>\n",
       "      <td>dbf39c8ac808f1e4cf242a2644c760e8e6bc480e</td>\n",
       "    </tr>\n",
       "    <tr>\n",
       "      <th>1</th>\n",
       "      <td>0014574e5a63fdeb277865902a7acfb3.json</td>\n",
       "      <td>2702575fc6d0f3a7d6665f872db8150016fa144d</td>\n",
       "    </tr>\n",
       "  </tbody>\n",
       "</table>\n",
       "</div>"
      ],
      "text/plain": [
       "                                Filename  \\\n",
       "0  0010e1c711e659b49024ede29074848a.json   \n",
       "1  0014574e5a63fdeb277865902a7acfb3.json   \n",
       "\n",
       "                                       uuid  \n",
       "0  dbf39c8ac808f1e4cf242a2644c760e8e6bc480e  \n",
       "1  2702575fc6d0f3a7d6665f872db8150016fa144d  "
      ]
     },
     "execution_count": 118,
     "metadata": {},
     "output_type": "execute_result"
    }
   ],
   "source": [
    "test_new.head(2)"
   ]
  },
  {
   "cell_type": "code",
   "execution_count": 121,
   "metadata": {},
   "outputs": [],
   "source": [
    "output_v2 = submission_file.merge(test_new , on = ['uuid'])"
   ]
  },
  {
   "cell_type": "code",
   "execution_count": 123,
   "metadata": {},
   "outputs": [],
   "source": [
    "output_v2 = output_v2[['Prediction' , 'Filename']]"
   ]
  },
  {
   "cell_type": "code",
   "execution_count": 125,
   "metadata": {},
   "outputs": [],
   "source": [
    "output_v2.to_csv('/home/FRACTAL/jitesh.arora/course-v3/nbs/dl1/output_v2.csv' , index = False)"
   ]
  },
  {
   "cell_type": "code",
   "execution_count": 46,
   "metadata": {},
   "outputs": [],
   "source": [
    "submission_file.to_csv('preds_test_new_LM_stratified_MCC_865.csv' , index = False)"
   ]
  }
 ],
 "metadata": {
  "kernelspec": {
   "display_name": "Python 3",
   "language": "python",
   "name": "python3"
  },
  "language_info": {
   "codemirror_mode": {
    "name": "ipython",
    "version": 3
   },
   "file_extension": ".py",
   "mimetype": "text/x-python",
   "name": "python",
   "nbconvert_exporter": "python",
   "pygments_lexer": "ipython3",
   "version": "3.6.8"
  }
 },
 "nbformat": 4,
 "nbformat_minor": 2
}
