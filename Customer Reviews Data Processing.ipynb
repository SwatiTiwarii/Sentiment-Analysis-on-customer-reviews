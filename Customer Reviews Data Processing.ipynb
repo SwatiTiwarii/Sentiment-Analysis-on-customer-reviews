{
 "cells": [
  {
   "cell_type": "code",
   "execution_count": 1,
   "metadata": {},
   "outputs": [],
   "source": [
    "import time\n",
    "notebookstart= time.time()\n",
    "\n",
    "import numpy as np # linear algebra\n",
    "import pandas as pd # data processing, CSV file I/O (e.g. pd.read_csv)\n",
    "import os\n",
    "import gc"
   ]
  },
  {
   "cell_type": "code",
   "execution_count": 2,
   "metadata": {},
   "outputs": [],
   "source": [
    "# Models Packages\n",
    "from sklearn import metrics\n",
    "from sklearn.metrics import mean_squared_error\n",
    "from sklearn import feature_selection\n",
    "from sklearn.model_selection import train_test_split\n",
    "from sklearn import preprocessing\n"
   ]
  },
  {
   "cell_type": "code",
   "execution_count": 3,
   "metadata": {},
   "outputs": [],
   "source": [
    "# Tf-Idf\n",
    "from sklearn.feature_extraction.text import CountVectorizer, TfidfVectorizer\n",
    "from sklearn.pipeline import FeatureUnion\n",
    "from scipy.sparse import hstack, csr_matrix\n",
    "from nltk.corpus import stopwords \n",
    "\n",
    "# Viz\n",
    "#import seaborn as sns\n",
    "import matplotlib.pyplot as plt"
   ]
  },
  {
   "cell_type": "code",
   "execution_count": 5,
   "metadata": {},
   "outputs": [
    {
     "name": "stdout",
     "output_type": "stream",
     "text": [
      "(129726, 20)\n",
      "(3645, 47)\n"
     ]
    },
    {
     "name": "stderr",
     "output_type": "stream",
     "text": [
      "/home/FRACTAL/jitesh.arora/anaconda3/envs/fastainew/lib/python3.6/site-packages/IPython/core/interactiveshell.py:3020: DtypeWarning: Columns (14,17) have mixed types. Specify dtype option on import or set low_memory=False.\n",
      "  interactivity=interactivity, compiler=compiler, result=result)\n"
     ]
    }
   ],
   "source": [
    "#combined_df = pd.read_csv(f'data/reviews_hc2/hackathon2/test_train_combined.csv')\n",
    "train_df = pd.read_csv('/home/FRACTAL/jitesh.arora/course-v3/nbs/dl1/data/reviews_hc2/hackathon2/train_df_final.csv')\n",
    "test_df = pd.read_csv('/home/FRACTAL/jitesh.arora/course-v3/nbs/dl1/data/reviews_hc2/hackathon2/translated_test_correct.csv')\n",
    "\n",
    "print(train_df.shape)\n",
    "print(test_df.shape)\n",
    "                      "
   ]
  },
  {
   "cell_type": "code",
   "execution_count": 5,
   "metadata": {},
   "outputs": [
    {
     "name": "stdout",
     "output_type": "stream",
     "text": [
      "(136983, 21)\n"
     ]
    }
   ],
   "source": [
    "reduced_df = combined_df.loc[:,combined_df.apply(pd.Series.nunique) != 1]\n",
    "print(reduced_df.shape)"
   ]
  },
  {
   "cell_type": "code",
   "execution_count": 6,
   "metadata": {},
   "outputs": [
    {
     "name": "stdout",
     "output_type": "stream",
     "text": [
      "(136983, 19)\n"
     ]
    }
   ],
   "source": [
    "reduced_df = reduced_df.loc[:,reduced_df.apply(pd.Series.nunique) != 0]\n",
    "print(reduced_df.shape)"
   ]
  },
  {
   "cell_type": "code",
   "execution_count": 7,
   "metadata": {},
   "outputs": [
    {
     "data": {
      "text/plain": [
       "author                   84670\n",
       "crawled                 129724\n",
       "published                70302\n",
       "text                    128728\n",
       "thread.country               7\n",
       "thread.published         70302\n",
       "thread.section_title     12933\n",
       "thread.site_full            25\n",
       "thread.site_section      11454\n",
       "thread.spam_score         1095\n",
       "thread.title             84668\n",
       "thread.title_full       117671\n",
       "thread.url              129726\n",
       "thread.uuid             129726\n",
       "title                    84668\n",
       "url                     129726\n",
       "uuid                    129726\n",
       "target                       2\n",
       "is_test                      2\n",
       "dtype: int64"
      ]
     },
     "execution_count": 7,
     "metadata": {},
     "output_type": "execute_result"
    }
   ],
   "source": [
    "reduced_df.nunique()"
   ]
  },
  {
   "cell_type": "code",
   "execution_count": 8,
   "metadata": {},
   "outputs": [],
   "source": [
    "df = reduced_df.copy()"
   ]
  },
  {
   "cell_type": "code",
   "execution_count": 9,
   "metadata": {},
   "outputs": [
    {
     "name": "stdout",
     "output_type": "stream",
     "text": [
      "(7257, 19)\n",
      "(129726, 19)\n"
     ]
    }
   ],
   "source": [
    "test_df = df[df['is_test']==1]\n",
    "train_df = df[df['is_test']==0]\n",
    "print(test_df.shape)\n",
    "print(train_df.shape)"
   ]
  },
  {
   "cell_type": "code",
   "execution_count": 13,
   "metadata": {},
   "outputs": [
    {
     "data": {
      "text/plain": [
       "IE    0.445776\n",
       "US    0.444812\n",
       "GB    0.050021\n",
       "FR    0.031005\n",
       "SE    0.013366\n",
       "NL    0.012677\n",
       "DK    0.002343\n",
       "Name: thread.country, dtype: float64"
      ]
     },
     "execution_count": 13,
     "metadata": {},
     "output_type": "execute_result"
    }
   ],
   "source": [
    "test_df['thread.country'].value_counts(normalize  = True)"
   ]
  },
  {
   "cell_type": "code",
   "execution_count": 14,
   "metadata": {},
   "outputs": [
    {
     "data": {
      "text/plain": [
       "US    0.436505\n",
       "IE    0.395094\n",
       "GB    0.085272\n",
       "FR    0.045766\n",
       "NL    0.018516\n",
       "SE    0.015856\n",
       "DK    0.002991\n",
       "Name: thread.country, dtype: float64"
      ]
     },
     "execution_count": 14,
     "metadata": {},
     "output_type": "execute_result"
    }
   ],
   "source": [
    "train_df['thread.country'].value_counts(normalize  = True)"
   ]
  },
  {
   "cell_type": "code",
   "execution_count": 15,
   "metadata": {},
   "outputs": [
    {
     "name": "stderr",
     "output_type": "stream",
     "text": [
      "/home/FRACTAL/jitesh.arora/anaconda3/lib/python3.6/site-packages/ipykernel_launcher.py:1: SettingWithCopyWarning: \n",
      "A value is trying to be set on a copy of a slice from a DataFrame.\n",
      "Try using .loc[row_indexer,col_indexer] = value instead\n",
      "\n",
      "See the caveats in the documentation: http://pandas.pydata.org/pandas-docs/stable/indexing.html#indexing-view-versus-copy\n",
      "  \"\"\"Entry point for launching an IPython kernel.\n"
     ]
    },
    {
     "name": "stdout",
     "output_type": "stream",
     "text": [
      "12973\n"
     ]
    },
    {
     "name": "stderr",
     "output_type": "stream",
     "text": [
      "/home/FRACTAL/jitesh.arora/anaconda3/lib/python3.6/site-packages/ipykernel_launcher.py:8: SettingWithCopyWarning: \n",
      "A value is trying to be set on a copy of a slice from a DataFrame.\n",
      "Try using .loc[row_indexer,col_indexer] = value instead\n",
      "\n",
      "See the caveats in the documentation: http://pandas.pydata.org/pandas-docs/stable/indexing.html#indexing-view-versus-copy\n",
      "  \n",
      "/home/FRACTAL/jitesh.arora/anaconda3/lib/python3.6/site-packages/ipykernel_launcher.py:9: SettingWithCopyWarning: \n",
      "A value is trying to be set on a copy of a slice from a DataFrame.\n",
      "Try using .loc[row_indexer,col_indexer] = value instead\n",
      "\n",
      "See the caveats in the documentation: http://pandas.pydata.org/pandas-docs/stable/indexing.html#indexing-view-versus-copy\n",
      "  if __name__ == '__main__':\n"
     ]
    }
   ],
   "source": [
    "train_df['is_valid'] = 0\n",
    "idx1 = np.array(train_df[train_df['target']==1].sample(frac= 0.1 , random_state = 42)['is_valid'].index.values).tolist()# tol\n",
    "idx2 = (train_df[train_df['target']==0].sample(frac= 0.1 , random_state = 42)['is_valid'].index.values).tolist()\n",
    "\n",
    "val_idxs = idx1+ idx2\n",
    "print(len(val_idxs))\n",
    "\n",
    "train_df['is_valid'] = train_df.index.isin(val_idxs)\n",
    "train_df['is_valid'] =  train_df['is_valid'].apply(lambda x: 1 if x== True else 0)"
   ]
  },
  {
   "cell_type": "code",
   "execution_count": 16,
   "metadata": {},
   "outputs": [],
   "source": [
    "train_df.reset_index(drop=True , inplace=True)\n",
    "test_df.reset_index(drop=True , inplace=True)"
   ]
  },
  {
   "cell_type": "code",
   "execution_count": 17,
   "metadata": {},
   "outputs": [
    {
     "name": "stderr",
     "output_type": "stream",
     "text": [
      "/home/FRACTAL/jitesh.arora/anaconda3/lib/python3.6/site-packages/pandas/core/frame.py:3697: SettingWithCopyWarning: \n",
      "A value is trying to be set on a copy of a slice from a DataFrame\n",
      "\n",
      "See the caveats in the documentation: http://pandas.pydata.org/pandas-docs/stable/indexing.html#indexing-view-versus-copy\n",
      "  errors=errors)\n"
     ]
    }
   ],
   "source": [
    "train_df.drop(columns=['published' , 'title' , 'uuid' , 'url'] , inplace=True)\n",
    "test_df.drop(columns=['published' , 'title' , 'uuid' , 'url'] , inplace=True)"
   ]
  },
  {
   "cell_type": "code",
   "execution_count": 18,
   "metadata": {},
   "outputs": [
    {
     "data": {
      "text/plain": [
       "author                  11\n",
       "crawled                  0\n",
       "text                     0\n",
       "thread.country           0\n",
       "thread.published         0\n",
       "thread.section_title     0\n",
       "thread.site_full         0\n",
       "thread.site_section      0\n",
       "thread.spam_score        0\n",
       "thread.title            26\n",
       "thread.title_full        0\n",
       "thread.url               0\n",
       "thread.uuid              0\n",
       "target                   0\n",
       "is_test                  0\n",
       "is_valid                 0\n",
       "dtype: int64"
      ]
     },
     "execution_count": 18,
     "metadata": {},
     "output_type": "execute_result"
    }
   ],
   "source": [
    "train_df.isnull().sum()"
   ]
  },
  {
   "cell_type": "code",
   "execution_count": 19,
   "metadata": {},
   "outputs": [],
   "source": [
    "train_df = train_df.fillna('null')\n",
    "test_df = test_df.fillna('null')"
   ]
  },
  {
   "cell_type": "code",
   "execution_count": 20,
   "metadata": {},
   "outputs": [],
   "source": [
    "def new_fn(x):\n",
    "    try :\n",
    "        x = str(x).split('?')[0]\n",
    "    except:\n",
    "        x = str(x)\n",
    "    return x"
   ]
  },
  {
   "cell_type": "code",
   "execution_count": 21,
   "metadata": {},
   "outputs": [],
   "source": [
    "train_df['thread.site_section']= train_df['thread.site_section'].apply(lambda x : str(x).split('/')[-1])\n",
    "train_df['thread.site_section'] = train_df['thread.site_section'].apply(lambda x : new_fn(x))\n",
    "\n",
    "test_df['thread.site_section']= test_df['thread.site_section'].apply(lambda x : str(x).split('/')[-1])\n",
    "test_df['thread.site_section'] = test_df['thread.site_section'].apply(lambda x : new_fn(x))"
   ]
  },
  {
   "cell_type": "code",
   "execution_count": 22,
   "metadata": {},
   "outputs": [
    {
     "data": {
      "text/plain": [
       "Index(['author', 'crawled', 'text', 'thread.country', 'thread.published',\n",
       "       'thread.section_title', 'thread.site_full', 'thread.site_section',\n",
       "       'thread.spam_score', 'thread.title', 'thread.title_full', 'thread.url',\n",
       "       'thread.uuid', 'target', 'is_test', 'is_valid'],\n",
       "      dtype='object')"
      ]
     },
     "execution_count": 22,
     "metadata": {},
     "output_type": "execute_result"
    }
   ],
   "source": [
    "train_df.columns"
   ]
  },
  {
   "cell_type": "code",
   "execution_count": 23,
   "metadata": {},
   "outputs": [],
   "source": [
    "def rename(x):\n",
    "    try:\n",
    "        x = str(x).split('.')[-1]\n",
    "    except:\n",
    "        x = str(x)\n",
    "    return x"
   ]
  },
  {
   "cell_type": "code",
   "execution_count": 24,
   "metadata": {},
   "outputs": [],
   "source": [
    "train_df.rename(columns= lambda x : rename(x) , inplace=True)\n",
    "test_df.rename(columns= lambda x : rename(x) , inplace=True)\n"
   ]
  },
  {
   "cell_type": "code",
   "execution_count": 25,
   "metadata": {},
   "outputs": [],
   "source": [
    "\n",
    "train_df['crawled'] =  train_df['crawled'].apply(lambda x: str(x)[0:10])\n",
    "train_df['published'] =  train_df['published'].apply(lambda x: str(x)[0:10])\n",
    "\n",
    "test_df['crawled'] =  test_df['crawled'].apply(lambda x: str(x)[0:10])\n",
    "test_df['published'] =  test_df['published'].apply(lambda x: str(x)[0:10])"
   ]
  },
  {
   "cell_type": "code",
   "execution_count": 26,
   "metadata": {},
   "outputs": [
    {
     "data": {
      "text/plain": [
       "author            84671\n",
       "crawled              54\n",
       "text             128727\n",
       "country               7\n",
       "published            86\n",
       "section_title     12933\n",
       "site_full            25\n",
       "site_section       4033\n",
       "spam_score         1089\n",
       "title             84669\n",
       "title_full       117670\n",
       "url              129725\n",
       "uuid             129725\n",
       "target                2\n",
       "is_test               1\n",
       "is_valid              2\n",
       "dtype: int64"
      ]
     },
     "execution_count": 26,
     "metadata": {},
     "output_type": "execute_result"
    }
   ],
   "source": [
    "train_df.nunique()"
   ]
  },
  {
   "cell_type": "code",
   "execution_count": 27,
   "metadata": {},
   "outputs": [
    {
     "name": "stdout",
     "output_type": "stream",
     "text": [
      "(129726, 16)\n",
      "(7257, 15)\n"
     ]
    }
   ],
   "source": [
    "print(train_df.shape)\n",
    "print(test_df.shape)"
   ]
  },
  {
   "cell_type": "code",
   "execution_count": 30,
   "metadata": {},
   "outputs": [],
   "source": [
    "train_df.to_csv('/home/FRACTAL/jitesh.arora/course-v3/nbs/dl1/data/reviews_hc2/hackathon2/train_processed.csv' , index = False)\n",
    "test_df.to_csv('/home/FRACTAL/jitesh.arora/course-v3/nbs/dl1/data/reviews_hc2/hackathon2/test_processed.csv' , index = False)"
   ]
  },
  {
   "cell_type": "code",
   "execution_count": null,
   "metadata": {},
   "outputs": [],
   "source": []
  }
 ],
 "metadata": {
  "kernelspec": {
   "display_name": "Python 3",
   "language": "python",
   "name": "python3"
  },
  "language_info": {
   "codemirror_mode": {
    "name": "ipython",
    "version": 3
   },
   "file_extension": ".py",
   "mimetype": "text/x-python",
   "name": "python",
   "nbconvert_exporter": "python",
   "pygments_lexer": "ipython3",
   "version": "3.6.8"
  }
 },
 "nbformat": 4,
 "nbformat_minor": 2
}
